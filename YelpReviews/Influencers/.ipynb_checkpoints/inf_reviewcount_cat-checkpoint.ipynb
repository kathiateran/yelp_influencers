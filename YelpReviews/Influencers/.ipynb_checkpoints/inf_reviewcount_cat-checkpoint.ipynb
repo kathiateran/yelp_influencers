{
 "cells": [
  {
   "cell_type": "code",
   "execution_count": null,
   "metadata": {},
   "outputs": [],
   "source": [
    "from pyspark.sql import SparkSession\n",
    "\n",
    "# THIS just looks up the movie names\n",
    "path1 = \"/Volumes/KATHIA/A.\\ SPARK/final_restaurants_all.json\"\n",
    "path2 = \"/Volumes/KATHIA/A.\\ SPARK/final_restaurant_reviews_all.json\"\n",
    "path3 = \"/Volumes/KATHIA/A.\\ SPARK/final_restaurant_users_all.json\"\n",
    "\n",
    "# Create a SparkSession (the config bit is only for Windows!)\n",
    "spark = SparkSession.builder.appName(\"Popular_Reviewer\").getOrCreate()\n",
    "\n",
    "# Get the raw data CONVERTS JSON, used to be 'lines'\n",
    "business_dataFrame = spark.read.json(path1)\n",
    "reviews_dataFrame = spark.read.json(path2)\n",
    "users_dataFrame = spark.read.json(path3)\n",
    "\n",
    "# Some SQL-style magic to sort all movies by popularity in one line!\n",
    "top_business = business_dataFrame.select(\"business_id\", \"name\", \"city\", \"categories\").orderBy(\"categories\", ascending=False)\n",
    "top_reviews = reviews_dataFrame.select(\"business_id\", \"user_id\").orderBy(\"user_id\", ascending=False)\n",
    "top_reviewer = users_dataFrame.select(\"user_id\", \"name\", \"review_count\").orderBy(\"review_count\", ascending=False)\n",
    "\n",
    "top_reviewers = top_business.join(top_reviews, on=['business_id'], how='inner').orderBy(\"categories\", ascending=False).\\\n",
    "                     join(top_reviewer, on=['user_id'], how='inner').orderBy(\"review_count\", ascending=False)\n",
    "\n",
    "top_reviewers.show()\n",
    "\n",
    "# Print the results\n",
    "print(\"\\n\")\n",
    "\n",
    "# Stop the session\n",
    "spark.stop()"
   ]
  }
 ],
 "metadata": {
  "kernelspec": {
   "display_name": "Python 3",
   "language": "python",
   "name": "python3"
  },
  "language_info": {
   "codemirror_mode": {
    "name": "ipython",
    "version": 3
   },
   "file_extension": ".py",
   "mimetype": "text/x-python",
   "name": "python",
   "nbconvert_exporter": "python",
   "pygments_lexer": "ipython3",
   "version": "3.7.6"
  }
 },
 "nbformat": 4,
 "nbformat_minor": 4
}
